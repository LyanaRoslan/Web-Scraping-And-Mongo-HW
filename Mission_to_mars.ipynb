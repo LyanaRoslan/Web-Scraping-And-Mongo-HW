{
 "cells": [
  {
   "cell_type": "code",
   "execution_count": 1,
   "metadata": {},
   "outputs": [
    {
     "ename": "ModuleNotFoundError",
     "evalue": "No module named 'tweepy'",
     "output_type": "error",
     "traceback": [
      "\u001b[0;31m---------------------------------------------------------------------------\u001b[0m",
      "\u001b[0;31mModuleNotFoundError\u001b[0m                       Traceback (most recent call last)",
      "\u001b[0;32m<ipython-input-1-182ab388faa2>\u001b[0m in \u001b[0;36m<module>\u001b[0;34m\u001b[0m\n\u001b[0;32m----> 1\u001b[0;31m \u001b[0;32mimport\u001b[0m \u001b[0mrequests\u001b[0m\u001b[0;34m,\u001b[0m \u001b[0mjson\u001b[0m\u001b[0;34m,\u001b[0m \u001b[0mtweepy\u001b[0m\u001b[0;34m\u001b[0m\u001b[0m\n\u001b[0m\u001b[1;32m      2\u001b[0m \u001b[0;34m\u001b[0m\u001b[0m\n\u001b[1;32m      3\u001b[0m \u001b[0;32mfrom\u001b[0m \u001b[0mbs4\u001b[0m \u001b[0;32mimport\u001b[0m \u001b[0mBeautifulSoup\u001b[0m\u001b[0;34m\u001b[0m\u001b[0m\n\u001b[1;32m      4\u001b[0m \u001b[0;31m# call format: BeautifulSoup(requests.get([URL]).text, 'html.parser')\u001b[0m\u001b[0;34m\u001b[0m\u001b[0;34m\u001b[0m\u001b[0m\n",
      "\u001b[0;31mModuleNotFoundError\u001b[0m: No module named 'tweepy'"
     ]
    }
   ],
   "source": [
    "import requests, json, tweepy\n",
    "\n",
    "from bs4 import BeautifulSoup\n",
    "# call format: BeautifulSoup(requests.get([URL]).text, 'html.parser')"
   ]
  },
  {
   "cell_type": "code",
   "execution_count": 2,
   "metadata": {},
   "outputs": [
    {
     "ename": "FileNotFoundError",
     "evalue": "[Errno 2] No such file or directory: 'keyring.json'",
     "output_type": "error",
     "traceback": [
      "\u001b[0;31m---------------------------------------------------------------------------\u001b[0m",
      "\u001b[0;31mFileNotFoundError\u001b[0m                         Traceback (most recent call last)",
      "\u001b[0;32m<ipython-input-2-ee88c1a18bbb>\u001b[0m in \u001b[0;36m<module>\u001b[0;34m\u001b[0m\n\u001b[1;32m      6\u001b[0m \u001b[0mFACTS\u001b[0m \u001b[0;34m=\u001b[0m \u001b[0;34m\"https://space-facts.com/mars/\"\u001b[0m\u001b[0;34m\u001b[0m\u001b[0m\n\u001b[1;32m      7\u001b[0m \u001b[0mGEO\u001b[0m \u001b[0;34m=\u001b[0m \u001b[0;34m\"https://astrogeology.usgs.gov/search/results?q=hemisphere+enhanced&k1=target&v1=Mars\"\u001b[0m\u001b[0;34m\u001b[0m\u001b[0m\n\u001b[0;32m----> 8\u001b[0;31m \u001b[0mball\u001b[0m \u001b[0;34m=\u001b[0m \u001b[0mjson\u001b[0m\u001b[0;34m.\u001b[0m\u001b[0mload\u001b[0m\u001b[0;34m(\u001b[0m\u001b[0mopen\u001b[0m\u001b[0;34m(\u001b[0m\u001b[0;34m\"keyring.json\"\u001b[0m\u001b[0;34m)\u001b[0m\u001b[0;34m)\u001b[0m\u001b[0;34m\u001b[0m\u001b[0m\n\u001b[0m\u001b[1;32m      9\u001b[0m \u001b[0mball\u001b[0m\u001b[0;34m[\u001b[0m\u001b[0;34m\"ball\"\u001b[0m\u001b[0;34m]\u001b[0m \u001b[0;34m=\u001b[0m \u001b[0mtweepy\u001b[0m\u001b[0;34m.\u001b[0m\u001b[0mOAuthHandler\u001b[0m\u001b[0;34m(\u001b[0m\u001b[0mball\u001b[0m\u001b[0;34m[\u001b[0m\u001b[0;34m'twitter'\u001b[0m\u001b[0;34m]\u001b[0m\u001b[0;34m[\u001b[0m\u001b[0;34m\"consumer\"\u001b[0m\u001b[0;34m]\u001b[0m\u001b[0;34m[\u001b[0m\u001b[0;34m\"key\"\u001b[0m\u001b[0;34m]\u001b[0m\u001b[0;34m,\u001b[0m \u001b[0mball\u001b[0m\u001b[0;34m[\u001b[0m\u001b[0;34m'twitter'\u001b[0m\u001b[0;34m]\u001b[0m\u001b[0;34m[\u001b[0m\u001b[0;34m\"consumer\"\u001b[0m\u001b[0;34m]\u001b[0m\u001b[0;34m[\u001b[0m\u001b[0;34m\"secret\"\u001b[0m\u001b[0;34m]\u001b[0m\u001b[0;34m)\u001b[0m\u001b[0;34m\u001b[0m\u001b[0m\n\u001b[1;32m     10\u001b[0m \u001b[0mball\u001b[0m\u001b[0;34m[\u001b[0m\u001b[0;34m\"ball\"\u001b[0m\u001b[0;34m]\u001b[0m\u001b[0;34m.\u001b[0m\u001b[0mset_access_token\u001b[0m\u001b[0;34m(\u001b[0m\u001b[0mball\u001b[0m\u001b[0;34m[\u001b[0m\u001b[0;34m'twitter'\u001b[0m\u001b[0;34m]\u001b[0m\u001b[0;34m[\u001b[0m\u001b[0;34m\"token\"\u001b[0m\u001b[0;34m]\u001b[0m\u001b[0;34m,\u001b[0m \u001b[0mball\u001b[0m\u001b[0;34m[\u001b[0m\u001b[0;34m'twitter'\u001b[0m\u001b[0;34m]\u001b[0m\u001b[0;34m[\u001b[0m\u001b[0;34m\"secret\"\u001b[0m\u001b[0;34m]\u001b[0m\u001b[0;34m)\u001b[0m\u001b[0;34m\u001b[0m\u001b[0m\n",
      "\u001b[0;31mFileNotFoundError\u001b[0m: [Errno 2] No such file or directory: 'keyring.json'"
     ]
    }
   ],
   "source": [
    "NEWS = \"https://mars.nasa.gov/news/\"\n",
    "IMAGE = \"https://www.jpl.nasa.gov/spaceimages/?search=&category=Mars\"\n",
    "IMAGE_ROOT = \"https://www.jpl.nasa.gov\"\n",
    "TWITTER = \"MarsWxReport\"\n",
    "FACTS = \"https://space-facts.com/mars/\"\n",
    "GEO = \"https://astrogeology.usgs.gov/search/results?q=hemisphere+enhanced&k1=target&v1=Mars\"\n",
    "ball = json.load(open(\"keyring.json\"))\n",
    "ball[\"ball\"] = tweepy.OAuthHandler(ball['twitter'][\"consumer\"][\"key\"], ball['twitter'][\"consumer\"][\"secret\"])\n",
    "ball[\"ball\"].set_access_token(ball['twitter'][\"token\"], ball['twitter'][\"secret\"])\n",
    "TWEEPY = tweepy.API(ball[\"ball\"], parser=tweepy.parsers.JSONParser())\n",
    "result = {}"
   ]
  },
  {
   "cell_type": "code",
   "execution_count": null,
   "metadata": {},
   "outputs": [],
   "source": [
    "def grab_tweet(count):\n",
    "    result = TWEEPY.user_timeline(id = TWITTER, count = count)[-1][\"text\"]\n",
    "    if \"RT @\" in result:\n",
    "        return grab_tweet(count + 1)\n",
    "    else:\n",
    "        return result"
   ]
  },
  {
   "cell_type": "code",
   "execution_count": null,
   "metadata": {},
   "outputs": [],
   "source": [
    "# grab the news\n",
    "ball = BeautifulSoup(requests.get(NEWS).text, 'html.parser').find(class_ = \"slide\")\n",
    "result[\"news\"] = {}\n",
    "result[\"news\"][\"title\"] = ball.find(class_ = \"content_title\").text.strip()\n",
    "result[\"news\"][\"p\"] = ball.find(class_ = \"rollover_description_inner\").text.strip()"
   ]
  },
  {
   "cell_type": "code",
   "execution_count": null,
   "metadata": {},
   "outputs": [],
   "source": [
    "\n",
    "# grab the featured_image_url\n",
    "\n",
    "# they were kind enough to make a hi-rez version the background of the carousel\n",
    "ball = BeautifulSoup(requests.get(IMAGE).text, 'html.parser').find(class_ = \"carousel_item\")\n",
    "# they are using \"\" for the outer strings- of which style is one- and ' for the inner.\n",
    "# the url is the only inner string\n",
    "ball = ball[\"style\"].split(\"'\")[1]\n",
    "# tack on the root url, since the rl is relative\n",
    "ball = f\"{IMAGE_ROOT}{ball}\"\n",
    "result[\"featured_image_url\"] = ball"
   ]
  },
  {
   "cell_type": "code",
   "execution_count": null,
   "metadata": {},
   "outputs": [],
   "source": [
    "# grab mars_weather\n",
    "result[\"mars_weather\"] = grab_tweet(1)"
   ]
  },
  {
   "cell_type": "code",
   "execution_count": null,
   "metadata": {},
   "outputs": [],
   "source": [
    "# grab html data string\n",
    "result[\"table\"] = BeautifulSoup(requests.get(FACTS).text, 'html.parser').find(id = \"tablepress-mars\")"
   ]
  },
  {
   "cell_type": "code",
   "execution_count": null,
   "metadata": {},
   "outputs": [],
   "source": [
    "# \"https://astrogeology.usgs.gov\"\n",
    "result[\"hemisphere_image_urls\"] = []\n",
    "for each in BeautifulSoup(requests.get(GEO).text, 'html.parser').findAll(\"a\", class_ = \"itemLink product-item\"):\n",
    "    ball = str(each).split('href=\"')[1]\n",
    "    ball = ball.split('\">')[0]\n",
    "    chain = BeautifulSoup(requests.get(f\"https://astrogeology.usgs.gov{ball}\").text, 'html.parser').find(\"img\", class_ = \"wide-image\")\n",
    "    ball = ball.split(\"/\")[-1].replace(\"_\", \" \").replace(\"enhanced\", \"hemisphere\")\n",
    "    chain = f\"https://astrogeology.usgs.gov/{chain['src']}\"\n",
    "    result[\"hemisphere_image_urls\"].append({\"title\": ball, \"img_url\": chain})"
   ]
  },
  {
   "cell_type": "code",
   "execution_count": null,
   "metadata": {},
   "outputs": [],
   "source": []
  }
 ],
 "metadata": {
  "kernelspec": {
   "display_name": "Python 3",
   "language": "python",
   "name": "python3"
  },
  "language_info": {
   "codemirror_mode": {
    "name": "ipython",
    "version": 3
   },
   "file_extension": ".py",
   "mimetype": "text/x-python",
   "name": "python",
   "nbconvert_exporter": "python",
   "pygments_lexer": "ipython3",
   "version": "3.6.6"
  }
 },
 "nbformat": 4,
 "nbformat_minor": 2
}
